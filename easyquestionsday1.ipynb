{
 "cells": [
  {
   "cell_type": "code",
   "execution_count": 1,
   "id": "fb61c1c2-0396-40cb-a572-05ff522c2542",
   "metadata": {},
   "outputs": [],
   "source": [
    "# Write a python code to implememnt the mid poitn of line"
   ]
  },
  {
   "cell_type": "code",
   "execution_count": 2,
   "id": "be6813bf-3c9f-471f-b95d-838cb6cd626c",
   "metadata": {},
   "outputs": [
    {
     "name": "stdin",
     "output_type": "stream",
     "text": [
      "enter the value of left end of line 2\n",
      "enter the value of right end of line: 4\n"
     ]
    },
    {
     "name": "stdout",
     "output_type": "stream",
     "text": [
      "the midpoint of line having two extreme point as 2.0 and 4.0 is 3.0\n"
     ]
    }
   ],
   "source": [
    "x = float(input(\"enter the value of left end of line\"))\n",
    "y = float(input(\"enter the value of right end of line:\"))\n",
    "z = (x+y)/2\n",
    "print(f\"the midpoint of line having two extreme point as {x} and {y} is {z}\")"
   ]
  },
  {
   "cell_type": "code",
   "execution_count": 3,
   "id": "3a176ec9-ebc5-42ae-8938-4b0ee59c9524",
   "metadata": {},
   "outputs": [],
   "source": [
    "# Write a python code to solve (x+y)*(x-y)"
   ]
  },
  {
   "cell_type": "code",
   "execution_count": 4,
   "id": "b6233083-b353-45ac-9413-605580424b21",
   "metadata": {},
   "outputs": [
    {
     "name": "stdin",
     "output_type": "stream",
     "text": [
      "enter the value of x: 3\n",
      "enter the value of y: 1\n"
     ]
    },
    {
     "name": "stdout",
     "output_type": "stream",
     "text": [
      "the value of expression is 8\n"
     ]
    }
   ],
   "source": [
    "x = int(input(\"enter the value of x:\"))\n",
    "y = int(input (\"enter the value of y:\"))\n",
    "z = (x+y)*(x-y)\n",
    "print(f\"the value of expression is {z}\")"
   ]
  },
  {
   "cell_type": "code",
   "execution_count": 5,
   "id": "533a9b52-2036-4977-a2d5-94dc642dfc40",
   "metadata": {},
   "outputs": [],
   "source": [
    "# Write a python code to swap two variables"
   ]
  },
  {
   "cell_type": "code",
   "execution_count": 6,
   "id": "5d0362e1-17f3-448d-a42c-434f31f3c5f3",
   "metadata": {},
   "outputs": [
    {
     "name": "stdin",
     "output_type": "stream",
     "text": [
      "enter the first number 1\n",
      "enter the second number: 2\n"
     ]
    },
    {
     "name": "stdout",
     "output_type": "stream",
     "text": [
      "2\n",
      "1\n"
     ]
    }
   ],
   "source": [
    "a = int(input(\"enter the first number\"))\n",
    "b = int(input(\"enter the second number:\"))\n",
    "c=a\n",
    "a=b\n",
    "b=c\n",
    "print(a)\n",
    "print(b)\n"
   ]
  },
  {
   "cell_type": "code",
   "execution_count": 7,
   "id": "070d7d66-8e56-4d0a-a6de-d011849a303c",
   "metadata": {},
   "outputs": [],
   "source": [
    "# Write a python code to calculate body mass index "
   ]
  },
  {
   "cell_type": "code",
   "execution_count": 8,
   "id": "654efd18-9e6f-407c-9cd6-17b3d9ac624a",
   "metadata": {},
   "outputs": [
    {
     "name": "stdin",
     "output_type": "stream",
     "text": [
      "enter the height in cm: 178\n",
      "enter the weight 80\n"
     ]
    },
    {
     "name": "stdout",
     "output_type": "stream",
     "text": [
      "25.24933720489837\n"
     ]
    }
   ],
   "source": [
    "height = float(input(\"enter the height in cm:\"))\n",
    "weight = float(input(\"enter the weight\"))\n",
    "BMI = (weight)/(height/100)**2\n",
    "print(BMI)"
   ]
  },
  {
   "cell_type": "code",
   "execution_count": 9,
   "id": "334497c0-1e4b-4d7c-adb4-e07f9d3e0857",
   "metadata": {},
   "outputs": [],
   "source": [
    "# write a python code to round a floating point number to specified number decimal places "
   ]
  },
  {
   "cell_type": "code",
   "execution_count": 10,
   "id": "ef32f426-dc4a-4c83-86ed-88f56de5c389",
   "metadata": {},
   "outputs": [
    {
     "name": "stdin",
     "output_type": "stream",
     "text": [
      "enter the number: 10.5247\n",
      "enter the number: 2\n"
     ]
    },
    {
     "name": "stdout",
     "output_type": "stream",
     "text": [
      "10.5247 rounded to 2 decimal places is 10.52\n"
     ]
    }
   ],
   "source": [
    "x = float(input(\"enter the number:\"))\n",
    "y = int(input(\"enter the number:\"))\n",
    "z = round(x,y)\n",
    "print(f\"{x} rounded to {y} decimal places is {z}\")"
   ]
  },
  {
   "cell_type": "code",
   "execution_count": null,
   "id": "0ad58691-8d71-4e82-8353-428b8b8fddc1",
   "metadata": {},
   "outputs": [],
   "source": []
  }
 ],
 "metadata": {
  "kernelspec": {
   "display_name": "Python 3 (ipykernel)",
   "language": "python",
   "name": "python3"
  },
  "language_info": {
   "codemirror_mode": {
    "name": "ipython",
    "version": 3
   },
   "file_extension": ".py",
   "mimetype": "text/x-python",
   "name": "python",
   "nbconvert_exporter": "python",
   "pygments_lexer": "ipython3",
   "version": "3.10.8"
  }
 },
 "nbformat": 4,
 "nbformat_minor": 5
}
